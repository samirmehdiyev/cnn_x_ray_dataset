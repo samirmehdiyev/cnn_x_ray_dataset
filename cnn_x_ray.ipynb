{
  "nbformat": 4,
  "nbformat_minor": 0,
  "metadata": {
    "colab": {
      "provenance": []
    },
    "kernelspec": {
      "name": "python3",
      "display_name": "Python 3"
    },
    "language_info": {
      "name": "python"
    }
  },
  "cells": [
    {
      "cell_type": "code",
      "execution_count": 26,
      "metadata": {
        "id": "oNixNeCJO6bd"
      },
      "outputs": [],
      "source": [
        "import numpy as np\n",
        "import pandas as pd\n",
        "import matplotlib.pyplot as plt\n",
        "import tensorflow as tf\n",
        "from keras.models import Sequential\n",
        "from keras.layers import Convolution2D \n",
        "from keras.layers import MaxPooling2D\n",
        "from keras.layers import Flatten\n",
        "from keras.layers import Dense\n",
        "\n",
        "from keras.preprocessing.image import ImageDataGenerator\n"
      ]
    },
    {
      "cell_type": "code",
      "source": [
        "train_datagen = ImageDataGenerator(\n",
        "    rescale=1./255, shear_range=0.2, zoom_range=0.2, horizontal_flip=True\n",
        ")\n",
        "\n",
        "test_datagen = ImageDataGenerator(rescale=1./255)\n",
        "\n",
        "training_set = train_datagen.flow_from_directory(\n",
        "    \"/content/drive/MyDrive/xray_dataset_covid19/train\",\n",
        "    target_size=(64,64),\n",
        "    batch_size=32,\n",
        "    class_mode=\"binary\"\n",
        ")\n",
        "test_set = test_datagen.flow_from_directory(\n",
        "    \"/content/drive/MyDrive/xray_dataset_covid19/test\",\n",
        "    target_size=(64,64),\n",
        "    batch_size=32,\n",
        "    class_mode=\"binary\"\n",
        ")"
      ],
      "metadata": {
        "colab": {
          "base_uri": "https://localhost:8080/"
        },
        "id": "kg70pXWGP0qg",
        "outputId": "72590ae8-e36c-453c-df07-68f01ce31529"
      },
      "execution_count": 2,
      "outputs": [
        {
          "output_type": "stream",
          "name": "stdout",
          "text": [
            "Found 148 images belonging to 2 classes.\n",
            "Found 40 images belonging to 2 classes.\n"
          ]
        }
      ]
    },
    {
      "cell_type": "code",
      "source": [
        "model = Sequential()\n",
        "\n",
        "model.add(Convolution2D(32,(3,3),activation=\"relu\",input_shape=(64,64,3)))\n",
        "\n",
        "model.add(MaxPooling2D(pool_size=(2,2)))\n",
        "\n",
        "model.add(Convolution2D(32,(3,3),activation=\"relu\"))\n",
        "\n",
        "model.add(MaxPooling2D(pool_size=(2,2)))\n",
        "\n",
        "model.add(Convolution2D(32,(3,3),activation=\"relu\"))\n",
        "\n",
        "model.add(MaxPooling2D(pool_size=(2,2)))\n",
        "\n",
        "model.add(Flatten())\n",
        "\n",
        "model.add(Dense(units=128,activation =\"relu\"))\n",
        "\n",
        "model.add(Dense(units=1,activation=\"sigmoid\"))\n",
        "\n",
        "model.summary()"
      ],
      "metadata": {
        "colab": {
          "base_uri": "https://localhost:8080/"
        },
        "id": "GfJcpDaYQCH7",
        "outputId": "61cc1a37-df6e-477c-ede4-60b58b7b504b"
      },
      "execution_count": 5,
      "outputs": [
        {
          "output_type": "stream",
          "name": "stdout",
          "text": [
            "Model: \"sequential_1\"\n",
            "_________________________________________________________________\n",
            " Layer (type)                Output Shape              Param #   \n",
            "=================================================================\n",
            " conv2d_3 (Conv2D)           (None, 62, 62, 32)        896       \n",
            "                                                                 \n",
            " max_pooling2d_3 (MaxPooling  (None, 31, 31, 32)       0         \n",
            " 2D)                                                             \n",
            "                                                                 \n",
            " conv2d_4 (Conv2D)           (None, 29, 29, 32)        9248      \n",
            "                                                                 \n",
            " max_pooling2d_4 (MaxPooling  (None, 14, 14, 32)       0         \n",
            " 2D)                                                             \n",
            "                                                                 \n",
            " conv2d_5 (Conv2D)           (None, 12, 12, 32)        9248      \n",
            "                                                                 \n",
            " max_pooling2d_5 (MaxPooling  (None, 6, 6, 32)         0         \n",
            " 2D)                                                             \n",
            "                                                                 \n",
            " flatten_1 (Flatten)         (None, 1152)              0         \n",
            "                                                                 \n",
            " dense_2 (Dense)             (None, 128)               147584    \n",
            "                                                                 \n",
            " dense_3 (Dense)             (None, 1)                 129       \n",
            "                                                                 \n",
            "=================================================================\n",
            "Total params: 167,105\n",
            "Trainable params: 167,105\n",
            "Non-trainable params: 0\n",
            "_________________________________________________________________\n"
          ]
        }
      ]
    },
    {
      "cell_type": "code",
      "source": [
        "model.compile(optimizer=\"adam\",loss=\"binary_crossentropy\",metrics=[\"accuracy\"])\n"
      ],
      "metadata": {
        "id": "jzEkIlWQQx46"
      },
      "execution_count": 6,
      "outputs": []
    },
    {
      "cell_type": "code",
      "source": [
        "history = model.fit(\n",
        "            training_set,\n",
        "            epochs=40,\n",
        "            validation_data=test_set,\n",
        "            validation_steps=800\n",
        "      )"
      ],
      "metadata": {
        "colab": {
          "base_uri": "https://localhost:8080/"
        },
        "id": "nrTu5ZVuQT9m",
        "outputId": "c4bc60be-7475-4593-8d11-3435a075ccc7"
      },
      "execution_count": 7,
      "outputs": [
        {
          "output_type": "stream",
          "name": "stdout",
          "text": [
            "Epoch 1/40\n",
            "5/5 [==============================] - ETA: 0s - loss: 0.7014 - accuracy: 0.5270"
          ]
        },
        {
          "output_type": "stream",
          "name": "stderr",
          "text": [
            "WARNING:tensorflow:Your input ran out of data; interrupting training. Make sure that your dataset or generator can generate at least `steps_per_epoch * epochs` batches (in this case, 800 batches). You may need to use the repeat() function when building your dataset.\n"
          ]
        },
        {
          "output_type": "stream",
          "name": "stdout",
          "text": [
            "\b\b\b\b\b\b\b\b\b\b\b\b\b\b\b\b\b\b\b\b\b\b\b\b\b\b\b\b\b\b\b\b\b\b\b\b\b\b\b\b\b\b\b\b\b\b\b\b\b\b\b\b\b\b\b\b\b\b\b\b\b\b\b\b\b\b\b\b\b\b\b\b\b\b\b\b\b\b\b\b\r5/5 [==============================] - 9s 2s/step - loss: 0.7014 - accuracy: 0.5270 - val_loss: 0.6641 - val_accuracy: 0.5000\n",
            "Epoch 2/40\n",
            "5/5 [==============================] - 6s 1s/step - loss: 0.6588 - accuracy: 0.5135\n",
            "Epoch 3/40\n",
            "5/5 [==============================] - 6s 1s/step - loss: 0.6229 - accuracy: 0.6757\n",
            "Epoch 4/40\n",
            "5/5 [==============================] - 7s 1s/step - loss: 0.5245 - accuracy: 0.8176\n",
            "Epoch 5/40\n",
            "5/5 [==============================] - 6s 1s/step - loss: 0.4230 - accuracy: 0.8041\n",
            "Epoch 6/40\n",
            "5/5 [==============================] - 6s 1s/step - loss: 0.3614 - accuracy: 0.8243\n",
            "Epoch 7/40\n",
            "5/5 [==============================] - 6s 1s/step - loss: 0.2684 - accuracy: 0.8919\n",
            "Epoch 8/40\n",
            "5/5 [==============================] - 6s 1s/step - loss: 0.3438 - accuracy: 0.8649\n",
            "Epoch 9/40\n",
            "5/5 [==============================] - 6s 1s/step - loss: 0.3116 - accuracy: 0.8378\n",
            "Epoch 10/40\n",
            "5/5 [==============================] - 6s 1s/step - loss: 0.2721 - accuracy: 0.8851\n",
            "Epoch 11/40\n",
            "5/5 [==============================] - 6s 1s/step - loss: 0.2290 - accuracy: 0.9122\n",
            "Epoch 12/40\n",
            "5/5 [==============================] - 6s 1s/step - loss: 0.1860 - accuracy: 0.9527\n",
            "Epoch 13/40\n",
            "5/5 [==============================] - 6s 1s/step - loss: 0.2048 - accuracy: 0.9324\n",
            "Epoch 14/40\n",
            "5/5 [==============================] - 6s 1s/step - loss: 0.2190 - accuracy: 0.9122\n",
            "Epoch 15/40\n",
            "5/5 [==============================] - 6s 1s/step - loss: 0.1906 - accuracy: 0.9324\n",
            "Epoch 16/40\n",
            "5/5 [==============================] - 6s 1s/step - loss: 0.1801 - accuracy: 0.9122\n",
            "Epoch 17/40\n",
            "5/5 [==============================] - 6s 1s/step - loss: 0.1856 - accuracy: 0.8986\n",
            "Epoch 18/40\n",
            "5/5 [==============================] - 6s 1s/step - loss: 0.2214 - accuracy: 0.9257\n",
            "Epoch 19/40\n",
            "5/5 [==============================] - 6s 1s/step - loss: 0.2085 - accuracy: 0.9122\n",
            "Epoch 20/40\n",
            "5/5 [==============================] - 6s 1s/step - loss: 0.2067 - accuracy: 0.9324\n",
            "Epoch 21/40\n",
            "5/5 [==============================] - 6s 1s/step - loss: 0.1522 - accuracy: 0.9324\n",
            "Epoch 22/40\n",
            "5/5 [==============================] - 6s 1s/step - loss: 0.2474 - accuracy: 0.8919\n",
            "Epoch 23/40\n",
            "5/5 [==============================] - 8s 2s/step - loss: 0.1664 - accuracy: 0.9459\n",
            "Epoch 24/40\n",
            "5/5 [==============================] - 6s 1s/step - loss: 0.1780 - accuracy: 0.9189\n",
            "Epoch 25/40\n",
            "5/5 [==============================] - 6s 1s/step - loss: 0.2326 - accuracy: 0.8784\n",
            "Epoch 26/40\n",
            "5/5 [==============================] - 6s 1s/step - loss: 0.2421 - accuracy: 0.8986\n",
            "Epoch 27/40\n",
            "5/5 [==============================] - 6s 1s/step - loss: 0.1710 - accuracy: 0.9459\n",
            "Epoch 28/40\n",
            "5/5 [==============================] - 6s 1s/step - loss: 0.1276 - accuracy: 0.9527\n",
            "Epoch 29/40\n",
            "5/5 [==============================] - 6s 1s/step - loss: 0.1658 - accuracy: 0.9527\n",
            "Epoch 30/40\n",
            "5/5 [==============================] - 6s 1s/step - loss: 0.1806 - accuracy: 0.9459\n",
            "Epoch 31/40\n",
            "5/5 [==============================] - 6s 1s/step - loss: 0.1599 - accuracy: 0.9459\n",
            "Epoch 32/40\n",
            "5/5 [==============================] - 6s 1s/step - loss: 0.1303 - accuracy: 0.9595\n",
            "Epoch 33/40\n",
            "5/5 [==============================] - 6s 1s/step - loss: 0.1404 - accuracy: 0.9459\n",
            "Epoch 34/40\n",
            "5/5 [==============================] - 6s 1s/step - loss: 0.1755 - accuracy: 0.9324\n",
            "Epoch 35/40\n",
            "5/5 [==============================] - 6s 1s/step - loss: 0.1600 - accuracy: 0.9392\n",
            "Epoch 36/40\n",
            "5/5 [==============================] - 6s 1s/step - loss: 0.1429 - accuracy: 0.9459\n",
            "Epoch 37/40\n",
            "5/5 [==============================] - 6s 1s/step - loss: 0.1235 - accuracy: 0.9595\n",
            "Epoch 38/40\n",
            "5/5 [==============================] - 6s 1s/step - loss: 0.1041 - accuracy: 0.9662\n",
            "Epoch 39/40\n",
            "5/5 [==============================] - 6s 1s/step - loss: 0.1526 - accuracy: 0.9595\n",
            "Epoch 40/40\n",
            "5/5 [==============================] - 6s 1s/step - loss: 0.1754 - accuracy: 0.9459\n"
          ]
        }
      ]
    },
    {
      "cell_type": "code",
      "source": [
        "# model evaluation\n",
        "plt.plot(history.history['accuracy'], label='accuracy')\n",
        "plt.xlabel('Epoch')\n",
        "plt.ylabel('Accuracy')\n",
        "plt.ylim([0.5, 1])\n",
        "plt.legend(loc='lower right')\n",
        "\n",
        "test_loss, test_acc = model.evaluate(test_set, verbose=2)\n",
        "print('test accuracy = ', test_acc)"
      ],
      "metadata": {
        "colab": {
          "base_uri": "https://localhost:8080/",
          "height": 319
        },
        "id": "OgY4WoHeTiAF",
        "outputId": "d8efb363-5cdb-4273-fbfa-1eb0fa8faee9"
      },
      "execution_count": 25,
      "outputs": [
        {
          "output_type": "stream",
          "name": "stdout",
          "text": [
            "2/2 - 2s - loss: 0.1012 - accuracy: 0.9500 - 2s/epoch - 1s/step\n",
            "0.949999988079071\n"
          ]
        },
        {
          "output_type": "display_data",
          "data": {
            "text/plain": [
              "<Figure size 432x288 with 1 Axes>"
            ],
            "image/png": "[encoded data removed]"
          },
          "metadata": {
            "needs_background": "light"
          }
        }
      ]
    },
    {
      "cell_type": "markdown",
      "source": [
        "# We used CNN for x-ray chest dataset classification, and it worked well we can improve performance by increasing the number of epochs."
      ],
      "metadata": {
        "id": "jEm98JoIjAxk"
      }
    }
  ]
}